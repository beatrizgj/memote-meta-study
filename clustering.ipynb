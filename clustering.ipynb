{
 "cells": [
  {
   "cell_type": "code",
   "execution_count": 32,
   "metadata": {},
   "outputs": [],
   "source": [
    "import matplotlib.pyplot as plt"
   ]
  },
  {
   "cell_type": "code",
   "execution_count": 1,
   "metadata": {},
   "outputs": [],
   "source": [
    "import pandas as pd"
   ]
  },
  {
   "cell_type": "code",
   "execution_count": 2,
   "metadata": {},
   "outputs": [],
   "source": [
    "from memote import ReportConfiguration"
   ]
  },
  {
   "cell_type": "code",
   "execution_count": 3,
   "metadata": {},
   "outputs": [],
   "source": [
    "from sklearn.decomposition import PCA"
   ]
  },
  {
   "cell_type": "code",
   "execution_count": 4,
   "metadata": {},
   "outputs": [],
   "source": [
    "from sklearn.manifold import TSNE"
   ]
  },
  {
   "cell_type": "code",
   "execution_count": 5,
   "metadata": {},
   "outputs": [],
   "source": [
    "from umap import UMAP"
   ]
  },
  {
   "cell_type": "code",
   "execution_count": 33,
   "metadata": {},
   "outputs": [],
   "source": [
    "%matplotlib inline"
   ]
  },
  {
   "cell_type": "markdown",
   "metadata": {},
   "source": [
    "## Extract"
   ]
  },
  {
   "cell_type": "code",
   "execution_count": 6,
   "metadata": {},
   "outputs": [],
   "source": [
    "df = pd.concat([\n",
    "    pd.read_csv(\"data/bigg/metrics.csv\"),\n",
    "    pd.read_csv(\"data/uminho/metrics.csv\"),\n",
    "#     pd.read_csv(\"data/mmodel/sbml/metrics.csv\"),\n",
    "    pd.read_csv(\"data/mmodel/sbml3/metrics.csv\"),\n",
    "], ignore_index=True)"
   ]
  },
  {
   "cell_type": "code",
   "execution_count": 7,
   "metadata": {},
   "outputs": [
    {
     "data": {
      "text/plain": [
       "(31018, 6)"
      ]
     },
     "execution_count": 7,
     "metadata": {},
     "output_type": "execute_result"
    }
   ],
   "source": [
    "df.shape"
   ]
  },
  {
   "cell_type": "code",
   "execution_count": 8,
   "metadata": {},
   "outputs": [
    {
     "data": {
      "text/html": [
       "<div>\n",
       "<style scoped>\n",
       "    .dataframe tbody tr th:only-of-type {\n",
       "        vertical-align: middle;\n",
       "    }\n",
       "\n",
       "    .dataframe tbody tr th {\n",
       "        vertical-align: top;\n",
       "    }\n",
       "\n",
       "    .dataframe thead th {\n",
       "        text-align: right;\n",
       "    }\n",
       "</style>\n",
       "<table border=\"1\" class=\"dataframe\">\n",
       "  <thead>\n",
       "    <tr style=\"text-align: right;\">\n",
       "      <th></th>\n",
       "      <th>test</th>\n",
       "      <th>title</th>\n",
       "      <th>metric</th>\n",
       "      <th>numeric</th>\n",
       "      <th>model</th>\n",
       "      <th>collection</th>\n",
       "    </tr>\n",
       "  </thead>\n",
       "  <tbody>\n",
       "    <tr>\n",
       "      <th>0</th>\n",
       "      <td>test_absolute_extreme_coefficient_ratio</td>\n",
       "      <td>Ratio Min/Max Non-Zero Coefficients</td>\n",
       "      <td>0.000000</td>\n",
       "      <td>NaN</td>\n",
       "      <td>RECON1</td>\n",
       "      <td>BiGG</td>\n",
       "    </tr>\n",
       "    <tr>\n",
       "      <th>1</th>\n",
       "      <td>test_biomass_presence</td>\n",
       "      <td>Biomass Reactions Identified</td>\n",
       "      <td>1.000000</td>\n",
       "      <td>0.0</td>\n",
       "      <td>RECON1</td>\n",
       "      <td>BiGG</td>\n",
       "    </tr>\n",
       "    <tr>\n",
       "      <th>2</th>\n",
       "      <td>test_biomass_specific_sbo_presence</td>\n",
       "      <td>Biomass Reactions SBO:0000629 Presence</td>\n",
       "      <td>1.000000</td>\n",
       "      <td>0.0</td>\n",
       "      <td>RECON1</td>\n",
       "      <td>BiGG</td>\n",
       "    </tr>\n",
       "    <tr>\n",
       "      <th>3</th>\n",
       "      <td>test_blocked_reactions</td>\n",
       "      <td>Universally Blocked Reactions</td>\n",
       "      <td>0.338412</td>\n",
       "      <td>1266.0</td>\n",
       "      <td>RECON1</td>\n",
       "      <td>BiGG</td>\n",
       "    </tr>\n",
       "    <tr>\n",
       "      <th>4</th>\n",
       "      <td>test_compartments_presence</td>\n",
       "      <td>Total Compartments</td>\n",
       "      <td>1.000000</td>\n",
       "      <td>8.0</td>\n",
       "      <td>RECON1</td>\n",
       "      <td>BiGG</td>\n",
       "    </tr>\n",
       "  </tbody>\n",
       "</table>\n",
       "</div>"
      ],
      "text/plain": [
       "                                      test  \\\n",
       "0  test_absolute_extreme_coefficient_ratio   \n",
       "1                    test_biomass_presence   \n",
       "2       test_biomass_specific_sbo_presence   \n",
       "3                   test_blocked_reactions   \n",
       "4               test_compartments_presence   \n",
       "\n",
       "                                    title    metric  numeric   model  \\\n",
       "0     Ratio Min/Max Non-Zero Coefficients  0.000000      NaN  RECON1   \n",
       "1            Biomass Reactions Identified  1.000000      0.0  RECON1   \n",
       "2  Biomass Reactions SBO:0000629 Presence  1.000000      0.0  RECON1   \n",
       "3           Universally Blocked Reactions  0.338412   1266.0  RECON1   \n",
       "4                      Total Compartments  1.000000      8.0  RECON1   \n",
       "\n",
       "  collection  \n",
       "0       BiGG  \n",
       "1       BiGG  \n",
       "2       BiGG  \n",
       "3       BiGG  \n",
       "4       BiGG  "
      ]
     },
     "execution_count": 8,
     "metadata": {},
     "output_type": "execute_result"
    }
   ],
   "source": [
    "df.head()"
   ]
  },
  {
   "cell_type": "markdown",
   "metadata": {},
   "source": [
    "## Transform"
   ]
  },
  {
   "cell_type": "markdown",
   "metadata": {},
   "source": [
    "### Restrict to Scored Test Cases"
   ]
  },
  {
   "cell_type": "code",
   "execution_count": 9,
   "metadata": {},
   "outputs": [],
   "source": [
    "config = ReportConfiguration.load()"
   ]
  },
  {
   "cell_type": "code",
   "execution_count": 10,
   "metadata": {},
   "outputs": [],
   "source": [
    "scored = set()\n",
    "for name, section in config[\"cards\"][\"scored\"][\"sections\"].items():\n",
    "    scored.update(section[\"cases\"])"
   ]
  },
  {
   "cell_type": "code",
   "execution_count": 17,
   "metadata": {},
   "outputs": [],
   "source": [
    "scored_df = df[df[\"test\"].isin(scored)].copy()"
   ]
  },
  {
   "cell_type": "code",
   "execution_count": 18,
   "metadata": {},
   "outputs": [
    {
     "data": {
      "text/plain": [
       "(5040, 6)"
      ]
     },
     "execution_count": 18,
     "metadata": {},
     "output_type": "execute_result"
    }
   ],
   "source": [
    "scored_df.shape"
   ]
  },
  {
   "cell_type": "markdown",
   "metadata": {},
   "source": [
    "### Pivot Table"
   ]
  },
  {
   "cell_type": "code",
   "execution_count": 19,
   "metadata": {},
   "outputs": [],
   "source": [
    "scored_df.set_index([\"collection\", \"model\", \"test\"], inplace=True)"
   ]
  },
  {
   "cell_type": "code",
   "execution_count": 20,
   "metadata": {},
   "outputs": [
    {
     "data": {
      "text/html": [
       "<div>\n",
       "<style scoped>\n",
       "    .dataframe tbody tr th:only-of-type {\n",
       "        vertical-align: middle;\n",
       "    }\n",
       "\n",
       "    .dataframe tbody tr th {\n",
       "        vertical-align: top;\n",
       "    }\n",
       "\n",
       "    .dataframe thead th {\n",
       "        text-align: right;\n",
       "    }\n",
       "</style>\n",
       "<table border=\"1\" class=\"dataframe\">\n",
       "  <thead>\n",
       "    <tr style=\"text-align: right;\">\n",
       "      <th></th>\n",
       "      <th></th>\n",
       "      <th></th>\n",
       "      <th>title</th>\n",
       "      <th>metric</th>\n",
       "      <th>numeric</th>\n",
       "    </tr>\n",
       "    <tr>\n",
       "      <th>collection</th>\n",
       "      <th>model</th>\n",
       "      <th>test</th>\n",
       "      <th></th>\n",
       "      <th></th>\n",
       "      <th></th>\n",
       "    </tr>\n",
       "  </thead>\n",
       "  <tbody>\n",
       "  </tbody>\n",
       "</table>\n",
       "</div>"
      ],
      "text/plain": [
       "Empty DataFrame\n",
       "Columns: [title, metric, numeric]\n",
       "Index: []"
      ]
     },
     "execution_count": 20,
     "metadata": {},
     "output_type": "execute_result"
    }
   ],
   "source": [
    "scored_df[scored_df.index.duplicated(keep=False)]"
   ]
  },
  {
   "cell_type": "code",
   "execution_count": 26,
   "metadata": {},
   "outputs": [
    {
     "data": {
      "text/html": [
       "<div>\n",
       "<style scoped>\n",
       "    .dataframe tbody tr th:only-of-type {\n",
       "        vertical-align: middle;\n",
       "    }\n",
       "\n",
       "    .dataframe tbody tr th {\n",
       "        vertical-align: top;\n",
       "    }\n",
       "\n",
       "    .dataframe thead tr th {\n",
       "        text-align: left;\n",
       "    }\n",
       "\n",
       "    .dataframe thead tr:last-of-type th {\n",
       "        text-align: right;\n",
       "    }\n",
       "</style>\n",
       "<table border=\"1\" class=\"dataframe\">\n",
       "  <thead>\n",
       "    <tr>\n",
       "      <th></th>\n",
       "      <th></th>\n",
       "      <th colspan=\"21\" halign=\"left\">metric</th>\n",
       "    </tr>\n",
       "    <tr>\n",
       "      <th></th>\n",
       "      <th>test</th>\n",
       "      <th>test_biomass_specific_sbo_presence</th>\n",
       "      <th>test_demand_specific_sbo_presence</th>\n",
       "      <th>test_exchange_specific_sbo_presence</th>\n",
       "      <th>test_find_disconnected</th>\n",
       "      <th>test_find_reactions_unbounded_flux_default_condition</th>\n",
       "      <th>test_gene_product_annotation_presence</th>\n",
       "      <th>test_gene_sbo_presence</th>\n",
       "      <th>test_gene_specific_sbo_presence</th>\n",
       "      <th>test_metabolic_reaction_specific_sbo_presence</th>\n",
       "      <th>test_metabolite_annotation_presence</th>\n",
       "      <th>...</th>\n",
       "      <th>test_metabolite_sbo_presence</th>\n",
       "      <th>test_metabolite_specific_sbo_presence</th>\n",
       "      <th>test_reaction_annotation_presence</th>\n",
       "      <th>test_reaction_charge_balance</th>\n",
       "      <th>test_reaction_id_namespace_consistency</th>\n",
       "      <th>test_reaction_mass_balance</th>\n",
       "      <th>test_reaction_sbo_presence</th>\n",
       "      <th>test_sink_specific_sbo_presence</th>\n",
       "      <th>test_stoichiometric_consistency</th>\n",
       "      <th>test_transport_reaction_specific_sbo_presence</th>\n",
       "    </tr>\n",
       "    <tr>\n",
       "      <th>collection</th>\n",
       "      <th>model</th>\n",
       "      <th></th>\n",
       "      <th></th>\n",
       "      <th></th>\n",
       "      <th></th>\n",
       "      <th></th>\n",
       "      <th></th>\n",
       "      <th></th>\n",
       "      <th></th>\n",
       "      <th></th>\n",
       "      <th></th>\n",
       "      <th></th>\n",
       "      <th></th>\n",
       "      <th></th>\n",
       "      <th></th>\n",
       "      <th></th>\n",
       "      <th></th>\n",
       "      <th></th>\n",
       "      <th></th>\n",
       "      <th></th>\n",
       "      <th></th>\n",
       "      <th></th>\n",
       "    </tr>\n",
       "  </thead>\n",
       "  <tbody>\n",
       "    <tr>\n",
       "      <th rowspan=\"5\" valign=\"top\">BiGG</th>\n",
       "      <th>RECON1</th>\n",
       "      <td>1.0</td>\n",
       "      <td>0.0</td>\n",
       "      <td>0.0</td>\n",
       "      <td>0.0</td>\n",
       "      <td>0.817998</td>\n",
       "      <td>0.013123</td>\n",
       "      <td>1.0</td>\n",
       "      <td>1.0</td>\n",
       "      <td>1.0</td>\n",
       "      <td>0.0</td>\n",
       "      <td>...</td>\n",
       "      <td>1.0</td>\n",
       "      <td>1.0</td>\n",
       "      <td>0.0</td>\n",
       "      <td>0.011175</td>\n",
       "      <td>0.0</td>\n",
       "      <td>0.016611</td>\n",
       "      <td>0.0</td>\n",
       "      <td>1.0</td>\n",
       "      <td>0.647505</td>\n",
       "      <td>1.0</td>\n",
       "    </tr>\n",
       "    <tr>\n",
       "      <th>Recon3D</th>\n",
       "      <td>0.0</td>\n",
       "      <td>0.0</td>\n",
       "      <td>0.0</td>\n",
       "      <td>0.0</td>\n",
       "      <td>0.922097</td>\n",
       "      <td>0.008452</td>\n",
       "      <td>1.0</td>\n",
       "      <td>1.0</td>\n",
       "      <td>1.0</td>\n",
       "      <td>0.0</td>\n",
       "      <td>...</td>\n",
       "      <td>1.0</td>\n",
       "      <td>1.0</td>\n",
       "      <td>0.0</td>\n",
       "      <td>0.339324</td>\n",
       "      <td>0.0</td>\n",
       "      <td>0.032647</td>\n",
       "      <td>0.0</td>\n",
       "      <td>0.0</td>\n",
       "      <td>0.000000</td>\n",
       "      <td>1.0</td>\n",
       "    </tr>\n",
       "    <tr>\n",
       "      <th>STM_v1_0</th>\n",
       "      <td>0.0</td>\n",
       "      <td>0.0</td>\n",
       "      <td>0.0</td>\n",
       "      <td>0.0</td>\n",
       "      <td>0.086081</td>\n",
       "      <td>0.015736</td>\n",
       "      <td>1.0</td>\n",
       "      <td>1.0</td>\n",
       "      <td>1.0</td>\n",
       "      <td>0.0</td>\n",
       "      <td>...</td>\n",
       "      <td>1.0</td>\n",
       "      <td>1.0</td>\n",
       "      <td>0.0</td>\n",
       "      <td>0.027765</td>\n",
       "      <td>0.0</td>\n",
       "      <td>0.005917</td>\n",
       "      <td>0.0</td>\n",
       "      <td>1.0</td>\n",
       "      <td>0.190899</td>\n",
       "      <td>1.0</td>\n",
       "    </tr>\n",
       "    <tr>\n",
       "      <th>e_coli_core</th>\n",
       "      <td>0.0</td>\n",
       "      <td>1.0</td>\n",
       "      <td>0.0</td>\n",
       "      <td>0.0</td>\n",
       "      <td>0.020408</td>\n",
       "      <td>0.007299</td>\n",
       "      <td>1.0</td>\n",
       "      <td>1.0</td>\n",
       "      <td>1.0</td>\n",
       "      <td>0.0</td>\n",
       "      <td>...</td>\n",
       "      <td>1.0</td>\n",
       "      <td>1.0</td>\n",
       "      <td>0.0</td>\n",
       "      <td>1.000000</td>\n",
       "      <td>0.0</td>\n",
       "      <td>0.000000</td>\n",
       "      <td>0.0</td>\n",
       "      <td>1.0</td>\n",
       "      <td>0.000000</td>\n",
       "      <td>1.0</td>\n",
       "    </tr>\n",
       "    <tr>\n",
       "      <th>iAB_RBC_283</th>\n",
       "      <td>1.0</td>\n",
       "      <td>0.0</td>\n",
       "      <td>0.0</td>\n",
       "      <td>0.0</td>\n",
       "      <td>0.079646</td>\n",
       "      <td>0.106322</td>\n",
       "      <td>1.0</td>\n",
       "      <td>1.0</td>\n",
       "      <td>1.0</td>\n",
       "      <td>0.0</td>\n",
       "      <td>...</td>\n",
       "      <td>1.0</td>\n",
       "      <td>1.0</td>\n",
       "      <td>0.0</td>\n",
       "      <td>1.000000</td>\n",
       "      <td>0.0</td>\n",
       "      <td>1.000000</td>\n",
       "      <td>0.0</td>\n",
       "      <td>0.0</td>\n",
       "      <td>0.000000</td>\n",
       "      <td>1.0</td>\n",
       "    </tr>\n",
       "  </tbody>\n",
       "</table>\n",
       "<p>5 rows × 21 columns</p>\n",
       "</div>"
      ],
      "text/plain": [
       "                                                   metric  \\\n",
       "test                   test_biomass_specific_sbo_presence   \n",
       "collection model                                            \n",
       "BiGG       RECON1                                     1.0   \n",
       "           Recon3D                                    0.0   \n",
       "           STM_v1_0                                   0.0   \n",
       "           e_coli_core                                0.0   \n",
       "           iAB_RBC_283                                1.0   \n",
       "\n",
       "                                                          \\\n",
       "test                   test_demand_specific_sbo_presence   \n",
       "collection model                                           \n",
       "BiGG       RECON1                                    0.0   \n",
       "           Recon3D                                   0.0   \n",
       "           STM_v1_0                                  0.0   \n",
       "           e_coli_core                               1.0   \n",
       "           iAB_RBC_283                               0.0   \n",
       "\n",
       "                                                            \\\n",
       "test                   test_exchange_specific_sbo_presence   \n",
       "collection model                                             \n",
       "BiGG       RECON1                                      0.0   \n",
       "           Recon3D                                     0.0   \n",
       "           STM_v1_0                                    0.0   \n",
       "           e_coli_core                                 0.0   \n",
       "           iAB_RBC_283                                 0.0   \n",
       "\n",
       "                                               \\\n",
       "test                   test_find_disconnected   \n",
       "collection model                                \n",
       "BiGG       RECON1                         0.0   \n",
       "           Recon3D                        0.0   \n",
       "           STM_v1_0                       0.0   \n",
       "           e_coli_core                    0.0   \n",
       "           iAB_RBC_283                    0.0   \n",
       "\n",
       "                                                                             \\\n",
       "test                   test_find_reactions_unbounded_flux_default_condition   \n",
       "collection model                                                              \n",
       "BiGG       RECON1                                                0.817998     \n",
       "           Recon3D                                               0.922097     \n",
       "           STM_v1_0                                              0.086081     \n",
       "           e_coli_core                                           0.020408     \n",
       "           iAB_RBC_283                                           0.079646     \n",
       "\n",
       "                                                              \\\n",
       "test                   test_gene_product_annotation_presence   \n",
       "collection model                                               \n",
       "BiGG       RECON1                                   0.013123   \n",
       "           Recon3D                                  0.008452   \n",
       "           STM_v1_0                                 0.015736   \n",
       "           e_coli_core                              0.007299   \n",
       "           iAB_RBC_283                              0.106322   \n",
       "\n",
       "                                                                               \\\n",
       "test                   test_gene_sbo_presence test_gene_specific_sbo_presence   \n",
       "collection model                                                                \n",
       "BiGG       RECON1                         1.0                             1.0   \n",
       "           Recon3D                        1.0                             1.0   \n",
       "           STM_v1_0                       1.0                             1.0   \n",
       "           e_coli_core                    1.0                             1.0   \n",
       "           iAB_RBC_283                    1.0                             1.0   \n",
       "\n",
       "                                                                      \\\n",
       "test                   test_metabolic_reaction_specific_sbo_presence   \n",
       "collection model                                                       \n",
       "BiGG       RECON1                                                1.0   \n",
       "           Recon3D                                               1.0   \n",
       "           STM_v1_0                                              1.0   \n",
       "           e_coli_core                                           1.0   \n",
       "           iAB_RBC_283                                           1.0   \n",
       "\n",
       "                                                            \\\n",
       "test                   test_metabolite_annotation_presence   \n",
       "collection model                                             \n",
       "BiGG       RECON1                                      0.0   \n",
       "           Recon3D                                     0.0   \n",
       "           STM_v1_0                                    0.0   \n",
       "           e_coli_core                                 0.0   \n",
       "           iAB_RBC_283                                 0.0   \n",
       "\n",
       "                                            ...                       \\\n",
       "test                                        ...                        \n",
       "collection model                            ...                        \n",
       "BiGG       RECON1                           ...                        \n",
       "           Recon3D                          ...                        \n",
       "           STM_v1_0                         ...                        \n",
       "           e_coli_core                      ...                        \n",
       "           iAB_RBC_283                      ...                        \n",
       "\n",
       "                                                     \\\n",
       "test                   test_metabolite_sbo_presence   \n",
       "collection model                                      \n",
       "BiGG       RECON1                               1.0   \n",
       "           Recon3D                              1.0   \n",
       "           STM_v1_0                             1.0   \n",
       "           e_coli_core                          1.0   \n",
       "           iAB_RBC_283                          1.0   \n",
       "\n",
       "                                                              \\\n",
       "test                   test_metabolite_specific_sbo_presence   \n",
       "collection model                                               \n",
       "BiGG       RECON1                                        1.0   \n",
       "           Recon3D                                       1.0   \n",
       "           STM_v1_0                                      1.0   \n",
       "           e_coli_core                                   1.0   \n",
       "           iAB_RBC_283                                   1.0   \n",
       "\n",
       "                                                          \\\n",
       "test                   test_reaction_annotation_presence   \n",
       "collection model                                           \n",
       "BiGG       RECON1                                    0.0   \n",
       "           Recon3D                                   0.0   \n",
       "           STM_v1_0                                  0.0   \n",
       "           e_coli_core                               0.0   \n",
       "           iAB_RBC_283                               0.0   \n",
       "\n",
       "                                                     \\\n",
       "test                   test_reaction_charge_balance   \n",
       "collection model                                      \n",
       "BiGG       RECON1                          0.011175   \n",
       "           Recon3D                         0.339324   \n",
       "           STM_v1_0                        0.027765   \n",
       "           e_coli_core                     1.000000   \n",
       "           iAB_RBC_283                     1.000000   \n",
       "\n",
       "                                                               \\\n",
       "test                   test_reaction_id_namespace_consistency   \n",
       "collection model                                                \n",
       "BiGG       RECON1                                         0.0   \n",
       "           Recon3D                                        0.0   \n",
       "           STM_v1_0                                       0.0   \n",
       "           e_coli_core                                    0.0   \n",
       "           iAB_RBC_283                                    0.0   \n",
       "\n",
       "                                                                              \\\n",
       "test                   test_reaction_mass_balance test_reaction_sbo_presence   \n",
       "collection model                                                               \n",
       "BiGG       RECON1                        0.016611                        0.0   \n",
       "           Recon3D                       0.032647                        0.0   \n",
       "           STM_v1_0                      0.005917                        0.0   \n",
       "           e_coli_core                   0.000000                        0.0   \n",
       "           iAB_RBC_283                   1.000000                        0.0   \n",
       "\n",
       "                                                        \\\n",
       "test                   test_sink_specific_sbo_presence   \n",
       "collection model                                         \n",
       "BiGG       RECON1                                  1.0   \n",
       "           Recon3D                                 0.0   \n",
       "           STM_v1_0                                1.0   \n",
       "           e_coli_core                             1.0   \n",
       "           iAB_RBC_283                             0.0   \n",
       "\n",
       "                                                        \\\n",
       "test                   test_stoichiometric_consistency   \n",
       "collection model                                         \n",
       "BiGG       RECON1                             0.647505   \n",
       "           Recon3D                            0.000000   \n",
       "           STM_v1_0                           0.190899   \n",
       "           e_coli_core                        0.000000   \n",
       "           iAB_RBC_283                        0.000000   \n",
       "\n",
       "                                                                      \n",
       "test                   test_transport_reaction_specific_sbo_presence  \n",
       "collection model                                                      \n",
       "BiGG       RECON1                                                1.0  \n",
       "           Recon3D                                               1.0  \n",
       "           STM_v1_0                                              1.0  \n",
       "           e_coli_core                                           1.0  \n",
       "           iAB_RBC_283                                           1.0  \n",
       "\n",
       "[5 rows x 21 columns]"
      ]
     },
     "execution_count": 26,
     "metadata": {},
     "output_type": "execute_result"
    }
   ],
   "source": [
    "observations = scored_df.loc[:, [\"metric\"]].unstack()\n",
    "observations.head()"
   ]
  },
  {
   "cell_type": "markdown",
   "metadata": {},
   "source": [
    "## Dimension Reduction"
   ]
  },
  {
   "cell_type": "markdown",
   "metadata": {},
   "source": [
    "### PCA"
   ]
  },
  {
   "cell_type": "code",
   "execution_count": 48,
   "metadata": {},
   "outputs": [
    {
     "name": "stdout",
     "output_type": "stream",
     "text": [
      "CPU times: user 8.07 ms, sys: 0 ns, total: 8.07 ms\n",
      "Wall time: 8.25 ms\n"
     ]
    }
   ],
   "source": [
    "%%time\n",
    "pca = PCA(n_components=2).fit_transform(observations)"
   ]
  },
  {
   "cell_type": "code",
   "execution_count": 49,
   "metadata": {},
   "outputs": [
    {
     "data": {
      "image/png": "[encoded data removed]",
      "text/plain": [
       "<Figure size 432x288 with 1 Axes>"
      ]
     },
     "metadata": {
      "needs_background": "light"
     },
     "output_type": "display_data"
    }
   ],
   "source": [
    "for label in observations.index.get_level_values(\"collection\").unique():\n",
    "    mask = observations.index.get_level_values(\"collection\") == label\n",
    "    plt.plot(pca[mask, 0], pca[mask, 1], \"x\", label=label)\n",
    "plt.legend()\n",
    "plt.show()"
   ]
  },
  {
   "cell_type": "markdown",
   "metadata": {},
   "source": [
    "### t-SNE"
   ]
  },
  {
   "cell_type": "code",
   "execution_count": 47,
   "metadata": {},
   "outputs": [
    {
     "name": "stdout",
     "output_type": "stream",
     "text": [
      "CPU times: user 763 ms, sys: 286 µs, total: 763 ms\n",
      "Wall time: 762 ms\n"
     ]
    }
   ],
   "source": [
    "%%time\n",
    "tsne = TSNE(n_components=2).fit_transform(observations)"
   ]
  },
  {
   "cell_type": "code",
   "execution_count": 50,
   "metadata": {},
   "outputs": [
    {
     "data": {
      "image/png": "[encoded data removed]",
      "text/plain": [
       "<Figure size 432x288 with 1 Axes>"
      ]
     },
     "metadata": {
      "needs_background": "light"
     },
     "output_type": "display_data"
    }
   ],
   "source": [
    "for label in observations.index.get_level_values(\"collection\").unique():\n",
    "    mask = observations.index.get_level_values(\"collection\") == label\n",
    "    plt.plot(tsne[mask, 0], tsne[mask, 1], \"x\", label=label)\n",
    "plt.legend()\n",
    "plt.show()"
   ]
  },
  {
   "cell_type": "markdown",
   "metadata": {},
   "source": [
    "### UMAP"
   ]
  },
  {
   "cell_type": "code",
   "execution_count": 51,
   "metadata": {},
   "outputs": [
    {
     "name": "stderr",
     "output_type": "stream",
     "text": [
      "/home/moritz/.virtualenvs/memote-meta/lib/python3.6/site-packages/umap/spectral.py:229 \u001b[1;31mUserWarning\u001b[0m: Embedding a total of 2 separate connected components using meta-embedding (experimental)\n"
     ]
    },
    {
     "name": "stdout",
     "output_type": "stream",
     "text": [
      "CPU times: user 5.15 s, sys: 366 ms, total: 5.51 s\n",
      "Wall time: 5.01 s\n"
     ]
    }
   ],
   "source": [
    "%%time\n",
    "umap = UMAP(n_components=2).fit_transform(observations)"
   ]
  },
  {
   "cell_type": "code",
   "execution_count": 52,
   "metadata": {},
   "outputs": [
    {
     "data": {
      "image/png": "[encoded data removed]",
      "text/plain": [
       "<Figure size 432x288 with 1 Axes>"
      ]
     },
     "metadata": {
      "needs_background": "light"
     },
     "output_type": "display_data"
    }
   ],
   "source": [
    "for label in observations.index.get_level_values(\"collection\").unique():\n",
    "    mask = observations.index.get_level_values(\"collection\") == label\n",
    "    plt.plot(umap[mask, 0], umap[mask, 1], \"x\", label=label)\n",
    "plt.legend()\n",
    "plt.show()"
   ]
  },
  {
   "cell_type": "code",
   "execution_count": null,
   "metadata": {},
   "outputs": [],
   "source": []
  }
 ],
 "metadata": {
  "kernelspec": {
   "display_name": "Python 3",
   "language": "python",
   "name": "python3"
  },
  "language_info": {
   "codemirror_mode": {
    "name": "ipython",
    "version": 3
   },
   "file_extension": ".py",
   "mimetype": "text/x-python",
   "name": "python",
   "nbconvert_exporter": "python",
   "pygments_lexer": "ipython3",
   "version": "3.6.7"
  },
  "toc": {
   "base_numbering": 1,
   "nav_menu": {},
   "number_sections": false,
   "sideBar": true,
   "skip_h1_title": true,
   "title_cell": "Table of Contents",
   "title_sidebar": "Table of Contents",
   "toc_cell": false,
   "toc_position": {},
   "toc_section_display": true,
   "toc_window_display": true
  }
 },
 "nbformat": 4,
 "nbformat_minor": 2
}
