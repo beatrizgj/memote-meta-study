{
 "cells": [
  {
   "cell_type": "code",
   "execution_count": 1,
   "metadata": {
    "collapsed": false
   },
   "outputs": [
    {
     "name": "stdout",
     "output_type": "stream",
     "text": [
      "--2016-02-18 01:39:09--  http://msb.embopress.org/content/11/10/831/DC1/embed/inline-supplementary-material-1.xlsx\n",
      "Resolving msb.embopress.org (msb.embopress.org)... 104.232.27.115\n",
      "Connecting to msb.embopress.org (msb.embopress.org)|104.232.27.115|:80... connected.\n",
      "HTTP request sent, awaiting response... 301 Moved Permanently\n",
      "Location: http://msb.embopress.org/content/msb/11/10/831/DC1/embed/inline-supplementary-material-1.xlsx [following]\n",
      "--2016-02-18 01:39:09--  http://msb.embopress.org/content/msb/11/10/831/DC1/embed/inline-supplementary-material-1.xlsx\n",
      "Connecting to msb.embopress.org (msb.embopress.org)|104.232.27.115|:80... connected.\n",
      "HTTP request sent, awaiting response... 200 OK\n",
      "Length: 16509 (16K) [application/vnd.openxmlformats-officedocument.spreadsheetml.sheet]\n",
      "Saving to: 'inline-supplementary-material-1.xlsx'\n",
      "\n",
      "100%[======================================>] 16,509      --.-K/s   in 0.02s   \n",
      "\n",
      "2016-02-18 01:39:10 (704 KB/s) - 'inline-supplementary-material-1.xlsx' saved [16509/16509]\n",
      "\n"
     ]
    }
   ],
   "source": [
    "!wget http://msb.embopress.org/content/11/10/831/DC1/embed/inline-supplementary-material-1.xlsx"
   ]
  },
  {
   "cell_type": "code",
   "execution_count": 1,
   "metadata": {
    "collapsed": true
   },
   "outputs": [],
   "source": [
    "import codecs\n",
    "import openpyxl"
   ]
  },
  {
   "cell_type": "code",
   "execution_count": 2,
   "metadata": {
    "collapsed": false
   },
   "outputs": [
    {
     "name": "stderr",
     "output_type": "stream",
     "text": [
      "/usr/local/lib/python2.7/dist-packages/openpyxl/workbook/names/named_range.py:125: UserWarning: Discarded range with reserved name\n",
      "  warnings.warn(\"Discarded range with reserved name\")\n"
     ]
    }
   ],
   "source": [
    "workbook = openpyxl.load_workbook(\"inline-supplementary-material-1.xlsx\", read_only=True)\n",
    "sheet = workbook.active"
   ]
  },
  {
   "cell_type": "markdown",
   "metadata": {},
   "source": [
    "Parse the spreadsheet"
   ]
  },
  {
   "cell_type": "code",
   "execution_count": 3,
   "metadata": {
    "collapsed": false
   },
   "outputs": [],
   "source": [
    "data = []\n",
    "\n",
    "for i, row in enumerate(sheet.rows):\n",
    "    if i == 0:  # skip header\n",
    "        continue\n",
    "    if row[2].value is None or len(row[2].value) <= 1:\n",
    "        ref_str = \"\"\n",
    "    else:\n",
    "        hyperlink_tokens = openpyxl.formula.Tokenizer(row[2].value)\n",
    "        hyperlink_tokens.parse()\n",
    "\n",
    "        ref = hyperlink_tokens.items[3].value.strip('\"')\n",
    "        ref_url = hyperlink_tokens.items[1].value.strip('\"').replace(\" \", \"\")\n",
    "        ref_str = \"[%s](%s)\" % (ref, ref_url)\n",
    "    try:\n",
    "        pmid = int(row[3].value)\n",
    "    except:\n",
    "        pmid_str = \"\"\n",
    "    else:\n",
    "        pmid_str = \"[%d](http://www.ncbi.nlm.nih.gov/pubmed/%d)\" % (pmid, pmid)\n",
    "    data.append((row[0].value.strip(), row[1].value.strip(), ref_str, pmid_str))\n",
    "\n",
    "col_lengths = tuple(max(len(i[col]) for i in data) for col in range(4))"
   ]
  },
  {
   "cell_type": "markdown",
   "metadata": {},
   "source": [
    "Print out the markdown version"
   ]
  },
  {
   "cell_type": "code",
   "execution_count": 4,
   "metadata": {
    "collapsed": false
   },
   "outputs": [],
   "source": [
    "row_format = u\"| %%-%ds | %%-%ds | %%-%ds | %%-%ds |\\n\" % col_lengths\n",
    "\n",
    "with codecs.open(\"model_key.md\", \"w\", encoding=\"utf-8\") as outfile:\n",
    "    # print header\n",
    "    outfile.write(row_format % (sheet[\"A1\"].value, sheet[\"B1\"].value, sheet[\"C1\"].value, sheet[\"D1\"].value))\n",
    "    # print hrule\n",
    "    outfile.write(\"|%s|%s|%s|%s|\\n\" % tuple(\"-\" * (i + 2) for i in col_lengths))\n",
    "    for d in data:\n",
    "        outfile.write(row_format % d)"
   ]
  }
 ],
 "metadata": {
  "kernelspec": {
   "display_name": "Python 2",
   "language": "python",
   "name": "python2"
  },
  "language_info": {
   "codemirror_mode": {
    "name": "ipython",
    "version": 2
   },
   "file_extension": ".py",
   "mimetype": "text/x-python",
   "name": "python",
   "nbconvert_exporter": "python",
   "pygments_lexer": "ipython2",
   "version": "2.7.6"
  }
 },
 "nbformat": 4,
 "nbformat_minor": 0
}
