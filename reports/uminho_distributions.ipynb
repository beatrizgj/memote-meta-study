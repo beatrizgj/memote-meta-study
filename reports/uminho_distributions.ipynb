{
 "cells": [
  {
   "cell_type": "code",
   "execution_count": 1,
   "metadata": {},
   "outputs": [],
   "source": [
    "import pandas as pd"
   ]
  },
  {
   "cell_type": "code",
   "execution_count": 2,
   "metadata": {},
   "outputs": [],
   "source": [
    "import nosqlite"
   ]
  },
  {
   "cell_type": "code",
   "execution_count": 3,
   "metadata": {},
   "outputs": [],
   "source": [
    "conn = nosqlite.Connection(\"../data/results.db\")"
   ]
  },
  {
   "cell_type": "code",
   "execution_count": 4,
   "metadata": {},
   "outputs": [],
   "source": [
    "uminho = conn[\"uminho\"]"
   ]
  },
  {
   "cell_type": "code",
   "execution_count": 5,
   "metadata": {},
   "outputs": [
    {
     "data": {
      "text/plain": [
       "85"
      ]
     },
     "execution_count": 5,
     "metadata": {},
     "output_type": "execute_result"
    }
   ],
   "source": [
    "uminho.count()"
   ]
  },
  {
   "cell_type": "code",
   "execution_count": 6,
   "metadata": {},
   "outputs": [],
   "source": [
    "template = uminho.find_one()"
   ]
  },
  {
   "cell_type": "code",
   "execution_count": 7,
   "metadata": {},
   "outputs": [],
   "source": [
    "class Bag(list):\n",
    "    def __init__(self, *args, **kwargs):\n",
    "        super().__init__(*args, **kwargs)\n",
    "        \n",
    "    def pluck(self, key, default=None):\n",
    "        return Bag(doc.get(key, default) for doc in self)"
   ]
  },
  {
   "cell_type": "code",
   "execution_count": 8,
   "metadata": {},
   "outputs": [],
   "source": [
    "bag = Bag(uminho.find())"
   ]
  },
  {
   "cell_type": "code",
   "execution_count": 9,
   "metadata": {},
   "outputs": [],
   "source": [
    "conn.close()"
   ]
  },
  {
   "cell_type": "code",
   "execution_count": 10,
   "metadata": {},
   "outputs": [
    {
     "data": {
      "text/plain": [
       "85"
      ]
     },
     "execution_count": 10,
     "metadata": {},
     "output_type": "execute_result"
    }
   ],
   "source": [
    "len(bag)"
   ]
  },
  {
   "cell_type": "code",
   "execution_count": 11,
   "metadata": {},
   "outputs": [
    {
     "data": {
      "text/plain": [
       "dict_keys(['data', 'duration', 'message', 'metric', 'result', 'summary', 'title', 'type'])"
      ]
     },
     "execution_count": 11,
     "metadata": {},
     "output_type": "execute_result"
    }
   ],
   "source": [
    "template[\"report\"][\"test_basic\"][\"test_model_id_presence\"].keys()"
   ]
  },
  {
   "cell_type": "code",
   "execution_count": 12,
   "metadata": {},
   "outputs": [
    {
     "name": "stdout",
     "output_type": "stream",
     "text": [
      "Skipping test_metabolite_annotation_overview\n",
      "Skipping test_metabolite_annotation_wrong_ids\n",
      "Skipping test_reaction_annotation_overview\n",
      "Skipping test_reaction_annotation_wrong_ids\n",
      "Skipping test_biomass_consistency\n",
      "Skipping test_biomass_default_production\n",
      "Skipping test_biomass_precursors_default_production\n",
      "Skipping test_biomass_precursors_open_production\n",
      "Skipping test_fast_growth_default\n",
      "Skipping test_gam_in_biomass\n",
      "Skipping test_detect_energy_generating_cycles\n",
      "test_detect_energy_generating_cycles[glu__L_c] has no title.\n"
     ]
    }
   ],
   "source": [
    "tests = list()\n",
    "titles = list()\n",
    "summaries = list()\n",
    "metrics = list()\n",
    "for module in template[\"report\"]:\n",
    "    for test in template[\"report\"][module]:\n",
    "        if template[\"report\"][module][test].get(\"type\", \"\") == \"object\":\n",
    "            print(\"Skipping\", test)\n",
    "            continue\n",
    "        t = template[\"report\"][module][test].get(\"title\", \"\")\n",
    "        if t == \"\":\n",
    "            print(test, \"has no title.\")\n",
    "            continue\n",
    "        tests.append(test)\n",
    "        titles.append(t)\n",
    "        summaries.append(template[\"report\"][module][test].get(\"summary\", \"\"))\n",
    "        metrics.append(bag.pluck(\"report\", {}).pluck(module, {}).pluck(test, {}).pluck(\"metric\", float(\"nan\")))"
   ]
  },
  {
   "cell_type": "code",
   "execution_count": 13,
   "metadata": {},
   "outputs": [],
   "source": [
    "meta = pd.DataFrame({\"test_case\": tests, \"title\": titles, \"summary\": summaries})"
   ]
  },
  {
   "cell_type": "code",
   "execution_count": 14,
   "metadata": {},
   "outputs": [],
   "source": [
    "metric = pd.DataFrame({case: m for case, m in zip(tests, metrics)})"
   ]
  },
  {
   "cell_type": "code",
   "execution_count": 15,
   "metadata": {},
   "outputs": [],
   "source": [
    "metric[\"source\"] = \"U Minho\""
   ]
  },
  {
   "cell_type": "code",
   "execution_count": 16,
   "metadata": {},
   "outputs": [],
   "source": [
    "metric[\"model_id\"] = bag.pluck(\"model_id\", \"\")"
   ]
  },
  {
   "cell_type": "code",
   "execution_count": 17,
   "metadata": {},
   "outputs": [
    {
     "data": {
      "text/html": [
       "<div>\n",
       "<style scoped>\n",
       "    .dataframe tbody tr th:only-of-type {\n",
       "        vertical-align: middle;\n",
       "    }\n",
       "\n",
       "    .dataframe tbody tr th {\n",
       "        vertical-align: top;\n",
       "    }\n",
       "\n",
       "    .dataframe thead th {\n",
       "        text-align: right;\n",
       "    }\n",
       "</style>\n",
       "<table border=\"1\" class=\"dataframe\">\n",
       "  <thead>\n",
       "    <tr style=\"text-align: right;\">\n",
       "      <th></th>\n",
       "      <th>test_biomass_presence</th>\n",
       "      <th>test_blocked_reactions</th>\n",
       "      <th>test_compartments_presence</th>\n",
       "      <th>test_enzyme_complex_presence</th>\n",
       "      <th>test_find_deadends</th>\n",
       "      <th>test_find_disconnected</th>\n",
       "      <th>test_find_orphans</th>\n",
       "      <th>test_find_pure_metabolic_reactions</th>\n",
       "      <th>test_find_stoichiometrically_balanced_cycles</th>\n",
       "      <th>test_find_transport_reactions</th>\n",
       "      <th>...</th>\n",
       "      <th>test_ngam_presence</th>\n",
       "      <th>test_reaction_annotation_presence</th>\n",
       "      <th>test_reaction_charge_balance</th>\n",
       "      <th>test_reaction_id_namespace_consistency</th>\n",
       "      <th>test_reaction_mass_balance</th>\n",
       "      <th>test_reactions_presence</th>\n",
       "      <th>test_stoichiometric_consistency</th>\n",
       "      <th>test_transport_reaction_presence</th>\n",
       "      <th>source</th>\n",
       "      <th>model_id</th>\n",
       "    </tr>\n",
       "  </thead>\n",
       "  <tbody>\n",
       "    <tr>\n",
       "      <th>0</th>\n",
       "      <td>1.0</td>\n",
       "      <td>0.204931</td>\n",
       "      <td>1.0</td>\n",
       "      <td>1.0</td>\n",
       "      <td>0.071501</td>\n",
       "      <td>0.0</td>\n",
       "      <td>0.110775</td>\n",
       "      <td>0.695686</td>\n",
       "      <td>1.0</td>\n",
       "      <td>0.159476</td>\n",
       "      <td>...</td>\n",
       "      <td>1.0</td>\n",
       "      <td>1.0</td>\n",
       "      <td>0.017720</td>\n",
       "      <td>1.0</td>\n",
       "      <td>0.006934</td>\n",
       "      <td>1.0</td>\n",
       "      <td>0.830816</td>\n",
       "      <td>1.0</td>\n",
       "      <td>U Minho</td>\n",
       "      <td></td>\n",
       "    </tr>\n",
       "    <tr>\n",
       "      <th>1</th>\n",
       "      <td>1.0</td>\n",
       "      <td>0.194253</td>\n",
       "      <td>1.0</td>\n",
       "      <td>1.0</td>\n",
       "      <td>0.047686</td>\n",
       "      <td>0.0</td>\n",
       "      <td>0.040673</td>\n",
       "      <td>0.889655</td>\n",
       "      <td>1.0</td>\n",
       "      <td>0.000000</td>\n",
       "      <td>...</td>\n",
       "      <td>1.0</td>\n",
       "      <td>1.0</td>\n",
       "      <td>0.008046</td>\n",
       "      <td>1.0</td>\n",
       "      <td>0.000000</td>\n",
       "      <td>1.0</td>\n",
       "      <td>0.000000</td>\n",
       "      <td>1.0</td>\n",
       "      <td>U Minho</td>\n",
       "      <td>July2009_Model</td>\n",
       "    </tr>\n",
       "    <tr>\n",
       "      <th>2</th>\n",
       "      <td>1.0</td>\n",
       "      <td>0.271772</td>\n",
       "      <td>1.0</td>\n",
       "      <td>1.0</td>\n",
       "      <td>0.086957</td>\n",
       "      <td>0.0</td>\n",
       "      <td>0.076292</td>\n",
       "      <td>0.957958</td>\n",
       "      <td>1.0</td>\n",
       "      <td>0.000000</td>\n",
       "      <td>...</td>\n",
       "      <td>1.0</td>\n",
       "      <td>1.0</td>\n",
       "      <td>0.957958</td>\n",
       "      <td>1.0</td>\n",
       "      <td>0.000000</td>\n",
       "      <td>1.0</td>\n",
       "      <td>0.662838</td>\n",
       "      <td>1.0</td>\n",
       "      <td>U Minho</td>\n",
       "      <td>iSS884</td>\n",
       "    </tr>\n",
       "    <tr>\n",
       "      <th>3</th>\n",
       "      <td>1.0</td>\n",
       "      <td>0.465162</td>\n",
       "      <td>1.0</td>\n",
       "      <td>1.0</td>\n",
       "      <td>0.189693</td>\n",
       "      <td>0.0</td>\n",
       "      <td>0.134868</td>\n",
       "      <td>0.999019</td>\n",
       "      <td>1.0</td>\n",
       "      <td>0.000000</td>\n",
       "      <td>...</td>\n",
       "      <td>1.0</td>\n",
       "      <td>1.0</td>\n",
       "      <td>0.999019</td>\n",
       "      <td>1.0</td>\n",
       "      <td>0.000000</td>\n",
       "      <td>1.0</td>\n",
       "      <td>0.142544</td>\n",
       "      <td>1.0</td>\n",
       "      <td>U Minho</td>\n",
       "      <td>HyunUkKim2010_VvuMBEL943_MetabolicModeling</td>\n",
       "    </tr>\n",
       "    <tr>\n",
       "      <th>4</th>\n",
       "      <td>1.0</td>\n",
       "      <td>0.069794</td>\n",
       "      <td>1.0</td>\n",
       "      <td>1.0</td>\n",
       "      <td>0.021179</td>\n",
       "      <td>0.0</td>\n",
       "      <td>0.014273</td>\n",
       "      <td>0.917864</td>\n",
       "      <td>1.0</td>\n",
       "      <td>0.070691</td>\n",
       "      <td>...</td>\n",
       "      <td>1.0</td>\n",
       "      <td>1.0</td>\n",
       "      <td>0.000000</td>\n",
       "      <td>1.0</td>\n",
       "      <td>0.001571</td>\n",
       "      <td>1.0</td>\n",
       "      <td>0.001381</td>\n",
       "      <td>1.0</td>\n",
       "      <td>U Minho</td>\n",
       "      <td>pti</td>\n",
       "    </tr>\n",
       "  </tbody>\n",
       "</table>\n",
       "<p>5 rows × 30 columns</p>\n",
       "</div>"
      ],
      "text/plain": [
       "   test_biomass_presence  test_blocked_reactions  test_compartments_presence  \\\n",
       "0                    1.0                0.204931                         1.0   \n",
       "1                    1.0                0.194253                         1.0   \n",
       "2                    1.0                0.271772                         1.0   \n",
       "3                    1.0                0.465162                         1.0   \n",
       "4                    1.0                0.069794                         1.0   \n",
       "\n",
       "   test_enzyme_complex_presence  test_find_deadends  test_find_disconnected  \\\n",
       "0                           1.0            0.071501                     0.0   \n",
       "1                           1.0            0.047686                     0.0   \n",
       "2                           1.0            0.086957                     0.0   \n",
       "3                           1.0            0.189693                     0.0   \n",
       "4                           1.0            0.021179                     0.0   \n",
       "\n",
       "   test_find_orphans  test_find_pure_metabolic_reactions  \\\n",
       "0           0.110775                            0.695686   \n",
       "1           0.040673                            0.889655   \n",
       "2           0.076292                            0.957958   \n",
       "3           0.134868                            0.999019   \n",
       "4           0.014273                            0.917864   \n",
       "\n",
       "   test_find_stoichiometrically_balanced_cycles  \\\n",
       "0                                           1.0   \n",
       "1                                           1.0   \n",
       "2                                           1.0   \n",
       "3                                           1.0   \n",
       "4                                           1.0   \n",
       "\n",
       "   test_find_transport_reactions                     ...                      \\\n",
       "0                       0.159476                     ...                       \n",
       "1                       0.000000                     ...                       \n",
       "2                       0.000000                     ...                       \n",
       "3                       0.000000                     ...                       \n",
       "4                       0.070691                     ...                       \n",
       "\n",
       "   test_ngam_presence  test_reaction_annotation_presence  \\\n",
       "0                 1.0                                1.0   \n",
       "1                 1.0                                1.0   \n",
       "2                 1.0                                1.0   \n",
       "3                 1.0                                1.0   \n",
       "4                 1.0                                1.0   \n",
       "\n",
       "   test_reaction_charge_balance  test_reaction_id_namespace_consistency  \\\n",
       "0                      0.017720                                     1.0   \n",
       "1                      0.008046                                     1.0   \n",
       "2                      0.957958                                     1.0   \n",
       "3                      0.999019                                     1.0   \n",
       "4                      0.000000                                     1.0   \n",
       "\n",
       "   test_reaction_mass_balance  test_reactions_presence  \\\n",
       "0                    0.006934                      1.0   \n",
       "1                    0.000000                      1.0   \n",
       "2                    0.000000                      1.0   \n",
       "3                    0.000000                      1.0   \n",
       "4                    0.001571                      1.0   \n",
       "\n",
       "   test_stoichiometric_consistency  test_transport_reaction_presence   source  \\\n",
       "0                         0.830816                               1.0  U Minho   \n",
       "1                         0.000000                               1.0  U Minho   \n",
       "2                         0.662838                               1.0  U Minho   \n",
       "3                         0.142544                               1.0  U Minho   \n",
       "4                         0.001381                               1.0  U Minho   \n",
       "\n",
       "                                     model_id  \n",
       "0                                              \n",
       "1                              July2009_Model  \n",
       "2                                      iSS884  \n",
       "3  HyunUkKim2010_VvuMBEL943_MetabolicModeling  \n",
       "4                                         pti  \n",
       "\n",
       "[5 rows x 30 columns]"
      ]
     },
     "execution_count": 17,
     "metadata": {},
     "output_type": "execute_result"
    }
   ],
   "source": [
    "metric.head()"
   ]
  },
  {
   "cell_type": "code",
   "execution_count": 18,
   "metadata": {},
   "outputs": [],
   "source": [
    "from csv import QUOTE_NONNUMERIC"
   ]
  },
  {
   "cell_type": "code",
   "execution_count": 19,
   "metadata": {},
   "outputs": [],
   "source": [
    "metric.to_csv(\"../data/uminho/metrics.csv\", index=False, quoting=QUOTE_NONNUMERIC)"
   ]
  }
 ],
 "metadata": {
  "kernelspec": {
   "display_name": "Python 3",
   "language": "python",
   "name": "python3"
  },
  "language_info": {
   "codemirror_mode": {
    "name": "ipython",
    "version": 3
   },
   "file_extension": ".py",
   "mimetype": "text/x-python",
   "name": "python",
   "nbconvert_exporter": "python",
   "pygments_lexer": "ipython3",
   "version": "3.6.3"
  }
 },
 "nbformat": 4,
 "nbformat_minor": 2
}
