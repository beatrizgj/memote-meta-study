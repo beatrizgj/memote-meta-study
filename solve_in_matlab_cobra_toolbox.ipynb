{
 "cells": [
  {
   "cell_type": "markdown",
   "metadata": {},
   "source": [
    "# Solving models with the COBRA Toolbox in MATLAB.\n",
    "\n",
    "The [COBRA toolbox](http://dx.doi.org/doi:10.1038/nprot.2011.308) is a commonly used framework for constraint-based modeling in MATLAB. For more information, please visit its [website](https://opencobra.github.io/cobratoolbox/).\n",
    "\n",
    "Here we will solve all the models in the collection using the COBRA toolbox. The models need to be parsed from SBML/xls into an 'all_models.mat' file, as done by [this script](load_models.ipynb).\n",
    "\n",
    "The COBRA toolbox also needs to be installed and configured. These paths below may need to be modified:"
   ]
  },
  {
   "cell_type": "code",
   "execution_count": 1,
   "metadata": {
    "collapsed": false
   },
   "outputs": [
    {
     "data": {},
     "execution_count": 1,
     "metadata": {},
     "output_type": "execute_result"
    }
   ],
   "source": [
    "addpath(genpath('~/cobratoolbox/'));\n",
    "\n",
    "solvers = {'glpk', 'ibm_cplex', 'gurobi6'};\n",
    "\n",
    "addpath('/opt/ibm/ILOG/CPLEX_Studio124/cplex/matlab');\n",
    "addpath('/opt/gurobi602/linux64/matlab');"
   ]
  },
  {
   "cell_type": "markdown",
   "metadata": {},
   "source": [
    "Load in all the already-parsed models from 'all_models.mat'"
   ]
  },
  {
   "cell_type": "code",
   "execution_count": 2,
   "metadata": {
    "collapsed": false
   },
   "outputs": [
    {
     "data": {},
     "execution_count": 2,
     "metadata": {},
     "output_type": "execute_result"
    }
   ],
   "source": [
    "loaded_mat = matfile('all_models.mat');\n",
    "model_ids = who(loaded_mat);\n",
    "n_models = size(model_ids, 1);\n",
    "all_models = cell(n_models, 1);\n",
    "for i=1:n_models\n",
    "    all_models{i} = loaded_mat.(model_ids{i});\n",
    "end"
   ]
  },
  {
   "cell_type": "markdown",
   "metadata": {},
   "source": [
    "Solve all the models"
   ]
  },
  {
   "cell_type": "code",
   "execution_count": 3,
   "metadata": {
    "collapsed": false
   },
   "outputs": [
    {
     "data": {},
     "execution_count": 3,
     "metadata": {},
     "output_type": "execute_result"
    }
   ],
   "source": [
    "r = zeros(n_models, size(solvers, 2));\n",
    "for j=1:size(solvers, 2)\n",
    "    changeCobraSolver(solvers{j});\n",
    "    for i=1:n_models\n",
    "        r(i, j) = getfield(optimizeCbModel(all_models{i}), 'f');\n",
    "    end\n",
    "end"
   ]
  },
  {
   "cell_type": "markdown",
   "metadata": {},
   "source": [
    "The solvers all give the same results for each model."
   ]
  },
  {
   "cell_type": "code",
   "execution_count": 4,
   "metadata": {
    "collapsed": false
   },
   "outputs": [
    {
     "data": {
      "text/plain": [
       "result_table = \n",
       "\n",
       "                            glpk      ibm_cplex    gurobi6 \n",
       "                          ________    _________    ________\n",
       "\n",
       "    AbyMBEL891              119.23      119.23       119.23\n",
       "    AraGEM                      10          10           10\n",
       "    GSMN_TB                0.13126     0.13126      0.13126\n",
       "    PpaMBEL1254             78.701      78.701       78.701\n",
       "    PpuMBEL1071             132.37      132.37       132.37\n",
       "    STM_v1_0               0.47783     0.47783      0.47783\n",
       "    S_coilicolor_fixed      860.09      860.09       860.09\n",
       "    SpoMBEL1693             63.786      63.786       63.786\n",
       "    T_Maritima             0.35947     0.35947      0.35947\n",
       "    VvuMBEL943              96.402      96.402       96.402\n",
       "    iAC560                  4.0426      4.0426       4.0426\n",
       "    iAF1260                 0.7367      0.7367       0.7367\n",
       "    iAF692                 0.02725     0.02725      0.02725\n",
       "    iAI549                  84.174      84.174       84.174\n",
       "    iAN840m                0.34014     0.34014      0.34014\n",
       "    iAO358                  255.18      255.18       255.18\n",
       "    iAbaylyiV4              12.307      12.307       12.307\n",
       "    iBT721_fixed               0.5         0.5          0.5\n",
       "    iBsu1103                1229.7      1229.7       1229.7\n",
       "    iCA1273                0.74024     0.74024      0.74024\n",
       "    iCB925                 0.11943     0.11943      0.11943\n",
       "    iCR744                  41.477      41.477       41.477\n",
       "    iCS291                 0.14055     0.14055      0.14055\n",
       "    iCS400                 0.21564     0.21564      0.21564\n",
       "    iCac802                 0.2096      0.2096       0.2096\n",
       "    iFF708                  14.917      14.917       14.917\n",
       "    iGB555_fixed            127.79      127.79       127.79\n",
       "    iHD666_fixed           0.25567     0.25567      0.25567\n",
       "    iIB711                  84.688      84.688       84.688\n",
       "    iIT341                 0.69281     0.69281      0.69281\n",
       "    iJL432                 0.32874     0.32874      0.32874\n",
       "    iJN678                 0.06315     0.06315      0.06315\n",
       "    iJN746                  3.6794      3.6794       3.6794\n",
       "    iJO1366                0.98237     0.98237      0.98237\n",
       "    iJP815                 0.86151     0.86151      0.86151\n",
       "    iJR904                 0.92195     0.92195      0.92195\n",
       "    iJS747                  34.173      34.173       34.173\n",
       "    iKF1028                0.51781     0.51781      0.51781\n",
       "    iLC915                  79.021      79.021       79.021\n",
       "    iLL672                  3.4753      3.4753       3.4753\n",
       "    iMA871                  27.793      27.793       27.793\n",
       "    iMA945                   79.59       79.59        79.59\n",
       "    iMB745                0.030942    0.030942     0.030942\n",
       "    iMH551                 0.77508     0.77508      0.77508\n",
       "    iMM1415                 1.3634      1.3634       1.3634\n",
       "    iMM904                 0.28787     0.28787      0.28787\n",
       "    iMO1056                 1.0479      1.0479       1.0479\n",
       "    iMP429_fixed           0.80443     0.80443      0.80443\n",
       "    iND750                0.097323    0.097323     0.097323\n",
       "    iNJ661                0.052199    0.052199     0.052199\n",
       "    iNJ661m               0.052199    0.052199     0.052199\n",
       "    iNV213                  11.539      11.539       11.539\n",
       "    iOG654                 0.35545     0.35545      0.35545\n",
       "    iOR363                     250         250          250\n",
       "    iPP668                  3.8915      3.8915       3.8915\n",
       "    iPS189_fixed             2.239       2.239        2.239\n",
       "    iRC1080                 6.1569      6.1569       6.1569\n",
       "    iRM588                    1000        1000         1000\n",
       "    iRR1083                 77.947      77.947       77.947\n",
       "    iRS1563               0.079962    0.079962     0.079962\n",
       "    iRS1597                 8.9693      8.9693       8.9693\n",
       "    iRS605_fixed            2.1168      2.1168       2.1168\n",
       "    iRsp1095                9.6869      9.6869       9.6869\n",
       "    iSB619                 0.15805     0.15805      0.15805\n",
       "    iSH335                  1.1592      1.1592       1.1592\n",
       "    iSO783                   17.92       17.92        17.92\n",
       "    iSR432                  11.483      11.483       11.483\n",
       "    iSS724                  22.422      22.422       22.422\n",
       "    iSS884                  70.359      70.359       70.359\n",
       "    iSyn669                0.17909     0.17909      0.17909\n",
       "    iTH366                   27891       27891        27891\n",
       "    iTL885                  7.0988      7.0988       7.0988\n",
       "    iTY425_fixed           0.88683     0.88683      0.88683\n",
       "    iVM679                  2.8266      2.8266       2.8266\n",
       "    iVS941_fixed           0.52338     0.52338      0.52338\n",
       "    iWV1314                 25.682      25.682       25.682\n",
       "    iWZ663                  34.076      34.076       34.076\n",
       "    iYL1228                 1.0426      1.0426       1.0426\n",
       "    iYO844                  1.5828      1.5828       1.5828\n",
       "    iZM363                  2.5326      2.5326       2.5326\n",
       "    iZmobMBEL601           0.35008     0.35008      0.35008\n",
       "    mus_musculus             129.1       129.1        129.1\n",
       "    textbook               0.87392     0.87392      0.87392"
      ]
     },
     "execution_count": 4,
     "metadata": {},
     "output_type": "execute_result"
    }
   ],
   "source": [
    "result_table = array2table(r, 'RowNames', model_ids, 'VariableNames', solvers)"
   ]
  },
  {
   "cell_type": "markdown",
   "metadata": {},
   "source": [
    "The maximum difference between these solvers is still less than 1e-6"
   ]
  },
  {
   "cell_type": "code",
   "execution_count": 5,
   "metadata": {
    "collapsed": false
   },
   "outputs": [
    {
     "data": {
      "text/plain": [
       "max_diff =\n",
       "\n",
       "   2.2798e-07"
      ]
     },
     "execution_count": 5,
     "metadata": {},
     "output_type": "execute_result"
    }
   ],
   "source": [
    "max_diff = max(max(r, [], 2) - min(r, [], 2))"
   ]
  }
 ],
 "metadata": {
  "kernelspec": {
   "display_name": "Matlab",
   "language": "matlab",
   "name": "matlab_kernel"
  },
  "language_info": {
   "file_extension": ".m",
   "help_links": [
    {
     "text": "MetaKernel Magics",
     "url": "https://github.com/calysto/metakernel/blob/master/metakernel/magics/README.md"
    }
   ],
   "mimetype": "text/x-matlab",
   "name": "matlab"
  }
 },
 "nbformat": 4,
 "nbformat_minor": 0
}
